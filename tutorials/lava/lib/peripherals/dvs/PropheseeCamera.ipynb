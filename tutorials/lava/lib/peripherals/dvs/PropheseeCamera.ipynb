{
 "cells": [
  {
   "cell_type": "markdown",
   "id": "21d15919-bad4-4363-b458-520b30510ca5",
   "metadata": {},
   "source": [
    "# Prophesee Event Camera \n",
    "\n",
    "In this tutorial we demonstrate how to obtain data from a Prophesee camera and stream the events into Lava. We show the basic usage of the `PropheseeCamera` Process and how to apply filters and transformations."
   ]
  },
  {
   "cell_type": "code",
   "execution_count": 1,
   "id": "1df6eded-4456-406f-b5b9-bab9bc7c687a",
   "metadata": {},
   "outputs": [],
   "source": [
    "import matplotlib\n",
    "%matplotlib inline\n",
    "\n",
    "import warnings\n",
    "warnings.filterwarnings(\"ignore\")\n",
    "\n",
    "from lava.magma.core.run_configs import Loihi2SimCfg\n",
    "from lava.magma.core.run_conditions import RunSteps\n",
    "\n",
    "from lava.lib.peripherals.dvs.prophesee import PropheseeCamera\n",
    "\n",
    "from utils import EventVisualizer"
   ]
  },
  {
   "cell_type": "markdown",
   "id": "1e456b29-9503-4546-adc7-37c8d511dcf3",
   "metadata": {},
   "source": [
    "## Download raw event recording\n",
    "\n",
    "Open a RAW event data file, if the file doesn't exist, it will be downloaded from Prophesee's public sample server\n"
   ]
  },
  {
   "cell_type": "code",
   "execution_count": 2,
   "id": "602de9c0-4501-42b3-b604-589346b82b19",
   "metadata": {},
   "outputs": [],
   "source": [
    "import metavision_core as mv\n",
    "\n",
    "EVENT_RECORDING_FILENAME = \"80_balls.raw\"\n",
    "mv.utils.get_sample(EVENT_RECORDING_FILENAME)\n",
    "\n",
    "reader = mv.event_io.RawReader(EVENT_RECORDING_FILENAME)\n",
    "height, width = reader.get_size()\n",
    "del reader"
   ]
  },
  {
   "cell_type": "markdown",
   "id": "1e72821b-418a-451d-a52d-1e33f96faccb",
   "metadata": {},
   "source": [
    "## Basic usage\n",
    "\n",
    "Initialize `PropheseeCamera` using the path to a recording file if RAW format, in order to use a live camera, replace the path with an empty string (\"\") or leave it out.\n",
    "\n",
    "The output of the `PropheseeCamera` is a histogram over all pixels. Optionally, the histogram can span multiple output time bins. In that case, set the `num_output_time_bins` parameter to the desired value."
   ]
  },
  {
   "cell_type": "markdown",
   "id": "f13c3774-0132-4858-b10d-94c0bac212c0",
   "metadata": {},
   "source": [
    "\n",
    "<table>\n",
    "<tr>\n",
    "    <td> <img src=\"gifs/basic.gif\" alt=\"Drawing\" style=\"height: 250px;\"/> </td>\n",
    "</tr>\n",
    "</table>"
   ]
  },
  {
   "cell_type": "code",
   "execution_count": 3,
   "id": "2ce2d8f2-a440-4d4f-a86b-b0b62d3fbee9",
   "metadata": {},
   "outputs": [],
   "source": [
    "\n",
    "# Initialize Processes\n",
    "camera = PropheseeCamera(filename=EVENT_RECORDING_FILENAME,\n",
    "                              sensor_shape=(height, width),\n",
    "                              num_output_time_bins=1)\n",
    "\n",
    "event_visualizer = EventVisualizer(shape=camera.s_out.shape)\n",
    "\n",
    "# Connect\n",
    "camera.s_out.connect(event_visualizer.s_in)\n",
    "\n",
    "# Run\n",
    "num_steps = 200\n",
    "run_cfg = Loihi2SimCfg()\n",
    "run_cnd = RunSteps(num_steps=num_steps)\n",
    "\n",
    "camera.run(condition=run_cnd, run_cfg=run_cfg)\n",
    "camera.stop()"
   ]
  },
  {
   "cell_type": "markdown",
   "id": "8a0a80a0-3d5f-4317-9a95-14b121bbf1d5",
   "metadata": {},
   "source": [
    "## Apply filters\n",
    "\n",
    "As you see, the falling balls in the recording cause a trail of events. In many cases these trails are blurring the objects and are undesired. In order to reduce the trails, we can apply the TrailFilterAlgorithm from the metavision_sdk. See the metavision documentation for more filters and their usage."
   ]
  },
  {
   "cell_type": "markdown",
   "id": "6a9fc5fb-30d8-4cd4-bb0f-42b2fe0aa5ef",
   "metadata": {},
   "source": [
    "\n",
    "<table>\n",
    "<tr>\n",
    "    <td> <img src=\"gifs/filters.gif\" alt=\"Drawing\" style=\"height: 250px;\"/> </td>\n",
    "</tr>\n",
    "</table>"
   ]
  },
  {
   "cell_type": "code",
   "execution_count": 4,
   "id": "73ef5962-56de-411c-ba02-2113163703d9",
   "metadata": {},
   "outputs": [],
   "source": [
    "from metavision_sdk_cv import TrailFilterAlgorithm, ActivityNoiseFilterAlgorithm\n",
    "\n",
    "\n",
    "filters = [TrailFilterAlgorithm(width=width, height=height, threshold=100000),\n",
    "           ActivityNoiseFilterAlgorithm(width=width, height=height, threshold=1000),]\n",
    "\n",
    "\n",
    "# Initialize Processes\n",
    "camera = PropheseeCamera(filename=EVENT_RECORDING_FILENAME,\n",
    "                              filters=filters,\n",
    "                              sensor_shape=(height, width),\n",
    "                              num_output_time_bins=1)\n",
    "\n",
    "event_visualizer = EventVisualizer(shape=camera.s_out.shape)\n",
    "\n",
    "# Connect\n",
    "camera.s_out.connect(event_visualizer.s_in)\n",
    "\n",
    "# Run\n",
    "num_steps = 200\n",
    "run_cfg = Loihi2SimCfg()\n",
    "run_cnd = RunSteps(num_steps=num_steps)\n",
    "\n",
    "camera.run(condition=run_cnd, run_cfg=run_cfg)\n",
    "camera.stop()"
   ]
  },
  {
   "cell_type": "markdown",
   "id": "ebade859-eaca-4b07-a6df-3ecf4136df62",
   "metadata": {},
   "source": [
    "## Apply transformations\n",
    "\n",
    "Lava-peripherals includes transformations which can be applied to the event data. For example Downsampling, MergePolarities and Mirroring."
   ]
  },
  {
   "cell_type": "markdown",
   "id": "5e91714a-baa6-4dfb-aa62-af0932e017d7",
   "metadata": {},
   "source": [
    "\n",
    "<table>\n",
    "<tr>\n",
    "    <td> <img src=\"gifs/transform.gif\" alt=\"Drawing\" style=\"height: 125px;\"/> </td>\n",
    "</tr>\n",
    "</table>"
   ]
  },
  {
   "cell_type": "code",
   "execution_count": 5,
   "id": "3c87662b-1fe1-4594-bcb0-2a30da9bf41a",
   "metadata": {},
   "outputs": [],
   "source": [
    "from lava.lib.peripherals.dvs.transform import Compose, Downsample\n",
    "\n",
    "transformations = Compose(\n",
    "    [\n",
    "        Downsample(factor=0.5),\n",
    "    ]\n",
    ")\n",
    "\n",
    "# Initialize Processes\n",
    "camera = PropheseeCamera(filename=EVENT_RECORDING_FILENAME,\n",
    "                              transformations=transformations,\n",
    "                              sensor_shape=(height, width),\n",
    "                              num_output_time_bins=1)\n",
    "\n",
    "event_visualizer = EventVisualizer(shape=camera.s_out.shape)\n",
    "\n",
    "# Connect\n",
    "camera.s_out.connect(event_visualizer.s_in)\n",
    "\n",
    "# Run\n",
    "num_steps = 200\n",
    "run_cfg = Loihi2SimCfg()\n",
    "run_cnd = RunSteps(num_steps=num_steps)\n",
    "\n",
    "camera.run(condition=run_cnd, run_cfg=run_cfg)\n",
    "camera.stop()"
   ]
  },
  {
   "cell_type": "markdown",
   "id": "66130c3c-8e25-46ae-8433-2c3a2853027b",
   "metadata": {},
   "source": [
    "## Custom transformation and manual output shape\n",
    "\n",
    "The implementation for transformations is compatible with both, tonic and torchvision transformations. Check out the tonic documentation to see a complete list of available transformations and their usage (https://tonic.readthedocs.io/en/latest/auto_examples/index.html). If you need to use custom transformation, the automatic shape determination would not work. In that case, you can specify the output shape manually."
   ]
  },
  {
   "cell_type": "markdown",
   "id": "1cdce5cd-4015-4330-a269-909e7f59d157",
   "metadata": {},
   "source": [
    "\n",
    "<table>\n",
    "<tr>\n",
    "    <td> <img src=\"gifs/custom_trans.gif\" alt=\"Drawing\" style=\"height: 250px;\"/> </td>\n",
    "</tr>\n",
    "</table>"
   ]
  },
  {
   "cell_type": "code",
   "execution_count": 6,
   "id": "2fde088a-74c9-45dd-bee7-beca88caa39f",
   "metadata": {},
   "outputs": [],
   "source": [
    "def expand_x_dim(events):\n",
    "    events['x'] += 500\n",
    "    return events\n",
    "    \n",
    "\n",
    "transformations = Compose(\n",
    "    [\n",
    "        expand_x_dim,\n",
    "    ]\n",
    ")\n",
    "\n",
    "# Initialize Processes\n",
    "camera = PropheseeCamera(filename=EVENT_RECORDING_FILENAME,\n",
    "                              transformations=transformations,\n",
    "                              sensor_shape=(height, width),\n",
    "                              num_output_time_bins=1,\n",
    "                              out_shape=(1, 2, height, width+500))\n",
    "\n",
    "event_visualizer = EventVisualizer(shape=camera.s_out.shape)\n",
    "\n",
    "# Connect\n",
    "camera.s_out.connect(event_visualizer.s_in)\n",
    "\n",
    "# Run\n",
    "num_steps = 200\n",
    "run_cfg = Loihi2SimCfg()\n",
    "run_cnd = RunSteps(num_steps=num_steps)\n",
    "\n",
    "camera.run(condition=run_cnd, run_cfg=run_cfg)\n",
    "camera.stop()"
   ]
  }
 ],
 "metadata": {
  "kernelspec": {
   "display_name": "Python 3 (ipykernel)",
   "language": "python",
   "name": "python3"
  },
  "language_info": {
   "codemirror_mode": {
    "name": "ipython",
    "version": 3
   },
   "file_extension": ".py",
   "mimetype": "text/x-python",
   "name": "python",
   "nbconvert_exporter": "python",
   "pygments_lexer": "ipython3",
   "version": "3.10.6"
  }
 },
 "nbformat": 4,
 "nbformat_minor": 5
}
